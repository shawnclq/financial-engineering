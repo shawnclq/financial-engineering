{
 "cells": [
  {
   "cell_type": "markdown",
   "id": "ec9c1fb8",
   "metadata": {},
   "source": [
    "# Trading Basics"
   ]
  },
  {
   "cell_type": "markdown",
   "id": "68b280b5",
   "metadata": {},
   "source": [
    "This notebook will explore the basics in using pythong for trading:\n",
    "- Getting crypto data from BitFinex\n",
    "- Plotting time series, candlestick and histogram plots\n",
    "- Evaluating SMAs\n",
    "- Resampling data"
   ]
  },
  {
   "cell_type": "code",
   "execution_count": 1,
   "id": "8c1815c4",
   "metadata": {},
   "outputs": [],
   "source": [
    "import requests\n",
    "import datetime\n",
    "import plotly.graph_objects as go\n",
    "import json\n",
    "import numpy as np\n",
    "import pandas as pd\n",
    "\n",
    "from ast import literal_eval"
   ]
  },
  {
   "cell_type": "code",
   "execution_count": 9,
   "id": "ce8c5a06",
   "metadata": {},
   "outputs": [],
   "source": [
    "# Converts millisecond to timestamp\n",
    "def milliseconds_to_timestamp(milliseconds: int) -> datetime.datetime:\n",
    "  return datetime.datetime.fromtimestamp(milliseconds // 1000)"
   ]
  },
  {
   "cell_type": "code",
   "execution_count": 10,
   "id": "cba1db6f",
   "metadata": {},
   "outputs": [
    {
     "data": {
      "text/plain": [
       "datetime.datetime(1970, 1, 1, 7, 30)"
      ]
     },
     "execution_count": 10,
     "metadata": {},
     "output_type": "execute_result"
    }
   ],
   "source": [
    "milliseconds_to_timestamp(400.012121)"
   ]
  },
  {
   "cell_type": "code",
   "execution_count": null,
   "id": "61c9c582",
   "metadata": {},
   "outputs": [],
   "source": []
  },
  {
   "cell_type": "code",
   "execution_count": null,
   "id": "59579299",
   "metadata": {},
   "outputs": [],
   "source": []
  },
  {
   "cell_type": "code",
   "execution_count": null,
   "id": "5cf61e23",
   "metadata": {},
   "outputs": [],
   "source": []
  }
 ],
 "metadata": {
  "kernelspec": {
   "display_name": "finance",
   "language": "python",
   "name": "finance"
  },
  "language_info": {
   "codemirror_mode": {
    "name": "ipython",
    "version": 3
   },
   "file_extension": ".py",
   "mimetype": "text/x-python",
   "name": "python",
   "nbconvert_exporter": "python",
   "pygments_lexer": "ipython3",
   "version": "3.8.15"
  }
 },
 "nbformat": 4,
 "nbformat_minor": 5
}
